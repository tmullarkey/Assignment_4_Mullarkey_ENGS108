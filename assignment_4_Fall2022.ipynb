{
 "cells": [
  {
   "cell_type": "markdown",
   "metadata": {
    "colab_type": "text",
    "id": "view-in-github"
   },
   "source": [
    "<a href=\"https://colab.research.google.com/github/Thayer-ENGS108/Assignment_4_Fall2022/blob/main/assignment_4_Fall2022.ipynb\" target=\"_parent\"><img src=\"https://colab.research.google.com/assets/colab-badge.svg\" alt=\"Open In Colab\"/></a>"
   ]
  },
  {
   "cell_type": "markdown",
   "metadata": {
    "id": "Dd0qJjGWPDEY"
   },
   "source": [
    "# **ENGS 108 Fall 2022 Assignment 4**\n",
    "\n",
    "*Due October 11, 2022 at 11:59PM on Github*\n",
    "\n",
    "**Instructors:** George Cybenko\n",
    "\n",
    "**TAs:** Chase Yakaboski and Clement Nyanhongo\n",
    "\n",
    "\n",
    "---\n",
    "\n",
    "## **Rules and Requirements**\n",
    "\n",
    "\n",
    "1.   You are only allowed to use Python packages that are explicity imported in \n",
    "the assignment notebook or are standard (bultin) python libraries like random, os, sys, etc, (Standard Bultin Python libraries will have a Python.org documentation). For this assignment you may use:\n",
    "  *   [numpy](https://numpy.org/doc/stable/)\n",
    "  *   [pandas](https://pandas.pydata.org/pandas-docs/stable/index.html)\n",
    "  *   [scikit-learn](https://scikit-learn.org/stable/)\n",
    "  *   [matplotlib](https://matplotlib.org/)\n",
    "  *   [tensorflow](https://www.tensorflow.org/)\n",
    "\n",
    "2.   All code must be fit into the designated code or text blocks in the assignment notebook. They are indentified by a **TODO** qualifier.\n",
    "\n",
    "3. For analytical questions that don't require code, type your answer cleanly in Markdown. For help, see the [Google Colab Markdown Guide](https://colab.research.google.com/notebooks/markdown_guide.ipynb).\n",
    "\n",
    "---\n"
   ]
  },
  {
   "cell_type": "code",
   "execution_count": 1,
   "metadata": {
    "id": "AD5eAz9acxe9"
   },
   "outputs": [],
   "source": [
    "''' Import Statements '''\n",
    "import os\n",
    "import csv\n",
    "import json\n",
    "import pickle\n",
    "import tqdm\n",
    "import numpy as np\n",
    "import pandas as pd\n",
    "import sklearn\n",
    "import tensorflow as tf\n",
    "import matplotlib.pyplot as plt"
   ]
  },
  {
   "cell_type": "markdown",
   "metadata": {
    "id": "aFcqjf9VXHfF"
   },
   "source": [
    "# Data Loading\n",
    "In this assignment we will be using the Yoga Postures Dataset from [Kaggle](https://www.kaggle.com/datasets/tr1gg3rtrash/yoga-posture-dataset) and will use the following code blocks to download the dataset directly to your Google Drive."
   ]
  },
  {
   "cell_type": "markdown",
   "metadata": {
    "id": "0tZ4gJ5zuZjP"
   },
   "source": [
    "## Creating a Kaggle API Token\n",
    "First we will need to download an API token from Kaggle in order to download the dataset, so our first step is to create a Kaggle account if you don't already have one.\n",
    "1. Create a Kaggle account by following the sign up instructions [here](https://www.kaggle.com/).\n",
    "2. Log into your Kaggle account and click your account icon on the upper righthand side. \n",
    "3. Then select **Account** from the dropdown/sidebar menu.\n",
    "4. Scroll down to the **API** section and select **Create New API Token**.\n",
    "5. This will download a JSON file called kaggle.json to your Downloads folder on your computer.\n",
    "6. Now run the following code block and when the **Browse** button appears, click it and select that kaggle.json file. "
   ]
  },
  {
   "cell_type": "code",
   "execution_count": 2,
   "metadata": {},
   "outputs": [],
   "source": [
    "with open('circles.pk','rb') as f_:\n",
    "    circledata=pickle.load(f_)"
   ]
  },
  {
   "cell_type": "code",
   "execution_count": 72,
   "metadata": {},
   "outputs": [
    {
     "data": {
      "text/plain": [
       "1000"
      ]
     },
     "execution_count": 72,
     "metadata": {},
     "output_type": "execute_result"
    }
   ],
   "source": [
    "len(circledata[1])"
   ]
  },
  {
   "cell_type": "code",
   "execution_count": 3,
   "metadata": {},
   "outputs": [
    {
     "data": {
      "text/plain": [
       "528"
      ]
     },
     "execution_count": 3,
     "metadata": {},
     "output_type": "execute_result"
    }
   ],
   "source": [
    "test_images = pd.read_csv(os.path.join('test_images.csv'))\n",
    "len(test_images)"
   ]
  },
  {
   "cell_type": "code",
   "execution_count": 74,
   "metadata": {
    "id": "gSQSg2HkXaHF"
   },
   "outputs": [
    {
     "name": "stdout",
     "output_type": "stream",
     "text": [
      "mkdir: /Users/turnermullarkey/.kaggle: File exists\r\n"
     ]
    }
   ],
   "source": [
    "# Run this code block after creating a Kaggle API token as instructed above.\n",
    "! pip install -q kaggle\n",
    "#from google.colab import files \n",
    "\n",
    "# Will ask you to upload kaggle.json file and remove any old ones.\n",
    "#if os.path.exists('kaggle.json'):\n",
    "#  os.remove('kaggle.json')\n",
    "#files.upload()\n",
    "\n",
    "# Will create the appropriate directory structure\n",
    "if not os.path.exists('/root/.kaggle'):\n",
    "  ! mkdir ~/.kaggle \n",
    "! cp kaggle.json ~/.kaggle/\n",
    "! chmod 600 ~/.kaggle/kaggle.json"
   ]
  },
  {
   "cell_type": "markdown",
   "metadata": {
    "id": "qVOhg0Rxx1HB"
   },
   "source": [
    "## Downloading the Dataset\n",
    "\n",
    "7. Now we have downloaded our Kaggle credentials we can now download the Yoga Postures Dataset (or any other Kaggle dataset for that matter) directly into our Google Drive."
   ]
  },
  {
   "cell_type": "markdown",
   "metadata": {
    "id": "-r2Nya5yV3hW"
   },
   "source": [
    "# Will ensure a train directory exists in your home and will create if it doesn't exist.\n",
    "if not os.path.exists('train'):\n",
    "  os.mkdir('train')\n",
    "# Will download the yoga postures dataset zip file if it does not exist in the train directory.\n",
    "if not os.path.exists('train/yoga-posture-dataset.zip'):\n",
    "  ! kaggle datasets download -p train tr1gg3rtrash/yoga-posture-dataset\n",
    "# Will check to see if the yoga postures zip file has been unzipped and will unzip the file if not.\n",
    "if not os.path.exists('train/Poses.json'):\n",
    "  ! unzip train/yoga-posture-dataset.zip -d train\n",
    "\n",
    "# To remove train folder and redownload uncomment the code below\n",
    "#!rm -rf train"
   ]
  },
  {
   "cell_type": "markdown",
   "metadata": {
    "id": "EyYOK_sA1rxB"
   },
   "source": [
    "## Viewing the Dataset Metadata\n",
    "Now let's inspect the dataset metadata, i.e. the information about each of the training examples, which is located in the Poses.json file."
   ]
  },
  {
   "cell_type": "code",
   "execution_count": 5,
   "metadata": {
    "id": "bMVBxxYS1ra1"
   },
   "outputs": [
    {
     "data": {
      "text/html": [
       "<div>\n",
       "<style scoped>\n",
       "    .dataframe tbody tr th:only-of-type {\n",
       "        vertical-align: middle;\n",
       "    }\n",
       "\n",
       "    .dataframe tbody tr th {\n",
       "        vertical-align: top;\n",
       "    }\n",
       "\n",
       "    .dataframe thead th {\n",
       "        text-align: right;\n",
       "    }\n",
       "</style>\n",
       "<table border=\"1\" class=\"dataframe\">\n",
       "  <thead>\n",
       "    <tr style=\"text-align: right;\">\n",
       "      <th></th>\n",
       "      <th>id</th>\n",
       "      <th>sanskrit_name</th>\n",
       "      <th>english_name</th>\n",
       "      <th>img_url</th>\n",
       "    </tr>\n",
       "  </thead>\n",
       "  <tbody>\n",
       "    <tr>\n",
       "      <th>0</th>\n",
       "      <td>1</td>\n",
       "      <td>Navasana</td>\n",
       "      <td>Boat</td>\n",
       "      <td>https://www.dropbox.com/s/4m64ztxkj8a4dab/boat...</td>\n",
       "    </tr>\n",
       "    <tr>\n",
       "      <th>1</th>\n",
       "      <td>2</td>\n",
       "      <td>Ardha Navasana</td>\n",
       "      <td>Half-Boat</td>\n",
       "      <td>https://www.dropbox.com/s/1nx0r94msxjwvyp/boat...</td>\n",
       "    </tr>\n",
       "    <tr>\n",
       "      <th>2</th>\n",
       "      <td>3</td>\n",
       "      <td>Dhanurasana</td>\n",
       "      <td>Bow</td>\n",
       "      <td>https://www.dropbox.com/s/wizj5kwxvez4c0a/bow....</td>\n",
       "    </tr>\n",
       "    <tr>\n",
       "      <th>3</th>\n",
       "      <td>4</td>\n",
       "      <td>Setu Bandha Sarvangasana</td>\n",
       "      <td>Bridge</td>\n",
       "      <td>https://www.dropbox.com/s/f1w64ybg4sn8ejt/brid...</td>\n",
       "    </tr>\n",
       "    <tr>\n",
       "      <th>4</th>\n",
       "      <td>5</td>\n",
       "      <td>Baddha Konasana</td>\n",
       "      <td>Butterfly</td>\n",
       "      <td>https://www.dropbox.com/s/3h2pts6xbn28dh7/butt...</td>\n",
       "    </tr>\n",
       "  </tbody>\n",
       "</table>\n",
       "</div>"
      ],
      "text/plain": [
       "   id             sanskrit_name english_name  \\\n",
       "0   1                  Navasana         Boat   \n",
       "1   2            Ardha Navasana    Half-Boat   \n",
       "2   3               Dhanurasana          Bow   \n",
       "3   4  Setu Bandha Sarvangasana       Bridge   \n",
       "4   5           Baddha Konasana    Butterfly   \n",
       "\n",
       "                                             img_url  \n",
       "0  https://www.dropbox.com/s/4m64ztxkj8a4dab/boat...  \n",
       "1  https://www.dropbox.com/s/1nx0r94msxjwvyp/boat...  \n",
       "2  https://www.dropbox.com/s/wizj5kwxvez4c0a/bow....  \n",
       "3  https://www.dropbox.com/s/f1w64ybg4sn8ejt/brid...  \n",
       "4  https://www.dropbox.com/s/3h2pts6xbn28dh7/butt...  "
      ]
     },
     "execution_count": 5,
     "metadata": {},
     "output_type": "execute_result"
    }
   ],
   "source": [
    "# Let's load the yoga postures metadata\n",
    "import json\n",
    "with open('train/Poses.json', 'r') as metafile:\n",
    "  metadata = json.load(metafile)\n",
    "metadata = pd.DataFrame.from_dict(metadata['Poses'])\n",
    "\n",
    "metadata.head()"
   ]
  },
  {
   "cell_type": "markdown",
   "metadata": {
    "id": "mty9AB1bd5hH"
   },
   "source": [
    "## Pre-Problem: Segmenting Out the Test Data and Copying to Google Drive\n",
    "A part of this homework will be a competition. Included in your assignment github repo, there is a file called **test_images.csv**. This file holds all of the image paths that you are **NOT** allowed to use during *training*. Therefore, what we are going to do in this pre-problem is remove all the testing images from your train data folder. *Hint:* You naturally are still allowed/should use the test data to evaluate your model moving foward, you're just not allowed to use these images during training."
   ]
  },
  {
   "cell_type": "markdown",
   "metadata": {
    "id": "C8V1hjp0rhOw"
   },
   "source": [
    "### Task 1\n",
    "Using the code available in the Data loading section as a reference, write a command using the \"!\" colab operator to create a new directory called **test**."
   ]
  },
  {
   "cell_type": "code",
   "execution_count": 8,
   "metadata": {
    "id": "IX8v3DzArOf6"
   },
   "outputs": [
    {
     "name": "stdout",
     "output_type": "stream",
     "text": [
      "rmdir: test: Directory not empty\n",
      "mkdir: test: File exists\n"
     ]
    }
   ],
   "source": [
    "#TODO: Write one line of code to make a new directory called test (You might need to refresh your files view to see the change)\n",
    "#! rmdir test\n",
    "#! mkdir test"
   ]
  },
  {
   "cell_type": "markdown",
   "metadata": {
    "id": "T_Ln5qixfHwt"
   },
   "source": [
    "### Task 2\n",
    "Upload your **test_images.csv** file by running the following code block."
   ]
  },
  {
   "cell_type": "code",
   "execution_count": 181,
   "metadata": {
    "id": "ZCY6MmC-6HhX"
   },
   "outputs": [],
   "source": [
    "#files.upload()"
   ]
  },
  {
   "cell_type": "markdown",
   "metadata": {
    "id": "YFo9c6U2--hm"
   },
   "source": [
    "### Task 3\n",
    "Now let's write some code to copy over all these test images into the test folder we created as well as removing them from the train folder."
   ]
  },
  {
   "cell_type": "code",
   "execution_count": 43,
   "metadata": {
    "id": "Mt00afQK_Ih7"
   },
   "outputs": [],
   "source": [
    "# First let's load the test_images.csv file\n",
    "with open('test_images.csv', 'r') as f_:\n",
    "  reader = csv.reader(f_)\n",
    "  test_image_paths = []\n",
    "  for row in reader:\n",
    "    test_image_paths.append(row[0])"
   ]
  },
  {
   "cell_type": "code",
   "execution_count": 45,
   "metadata": {},
   "outputs": [],
   "source": [
    "#for i in test_image_paths:\n",
    " #   !mv ./train/\"{i}\" ./test"
   ]
  },
  {
   "cell_type": "code",
   "execution_count": 46,
   "metadata": {},
   "outputs": [],
   "source": [
    "\n",
    "#os.path.join('train/',test_image_paths[1])\n"
   ]
  },
  {
   "cell_type": "code",
   "execution_count": 47,
   "metadata": {
    "id": "MYX2AlPPsIot"
   },
   "outputs": [],
   "source": [
    "# TODO: Now using these test image paths, copy over these files to the test directory and remove them from the train directory\n",
    "\n",
    "#for test_path in test_image_paths:\n",
    "#    a = os.path.join('train/',test_path.replace(\" \",\"\"))\n",
    "#    !cp {a} test\n",
    "#    !rm {a}\n",
    "  # Do something... (hint see cp and rm commands using the colab terminal, i.e. the \"!\" operator)"
   ]
  },
  {
   "cell_type": "markdown",
   "metadata": {
    "id": "MQSiUHBUv_6Q"
   },
   "source": [
    "### Task 4\n",
    "Now that we have our test and training sets setup, let's copy them over to our Google Drive so that we don't have to run this pipeline again.\n",
    "\n",
    "1. Mount your Google Drive in colab in the standard way by running the following code block."
   ]
  },
  {
   "cell_type": "code",
   "execution_count": 49,
   "metadata": {
    "id": "SZcnh30iwVVa"
   },
   "outputs": [],
   "source": [
    "#from google.colab import drive\n",
    "#drive.mount('/content/drive')"
   ]
  },
  {
   "cell_type": "markdown",
   "metadata": {
    "id": "h0MK7c3lwhz8"
   },
   "source": [
    "2. Now run the following command to copy over the training and test data to your desired location. Remember this location so you don't have to run this data loading section everytime you want to work on your homework."
   ]
  },
  {
   "cell_type": "code",
   "execution_count": 50,
   "metadata": {
    "id": "jUnorFMiwWIb"
   },
   "outputs": [],
   "source": [
    "# DESIRED GOOGLE DRIVE DIRECTORY (CHANGE ME)\n",
    "#DESIRED_GOOGLE_DRIVE_DIR = '/content/drive/MyDrive/data/yoga-poses'\n",
    "\n",
    "# Makes the desired directory. If you get an error then the directory likely already exists, so comment out this line.\n",
    "#! mkdir -p $DESIRED_GOOGLE_DRIVE_DIR\n",
    "\n",
    "# Command to copy over all test and train data to desired google drive path\n",
    "#! cp -r train $DESIRED_GOOGLE_DRIVE_DIR\n",
    "#! cp -r test $DESIRED_GOOGLE_DRIVE_DIR"
   ]
  },
  {
   "cell_type": "markdown",
   "metadata": {
    "id": "zPvUebuqx7Zv"
   },
   "source": [
    "# Problem 1: Support Vector Machine Classification\n",
    "In this problem, you will be building support vector machines for some cool classification tasks."
   ]
  },
  {
   "cell_type": "markdown",
   "metadata": {
    "id": "GcidjoN9yfDn"
   },
   "source": [
    "## Task 1: Synthetic Data\n",
    " In this part we will be exploring the *circles* dataset. This dataset is avialable as a pickle file labeled *circles.pk* in your assignment repository under datasets. In this dataset you will have an $X$ array of 2 dimensional samples of the form $(x_1, x_2)$ and a $y$ array of each samples associated label. "
   ]
  },
  {
   "cell_type": "markdown",
   "metadata": {
    "id": "udSAfh76ypCS"
   },
   "source": [
    "### Part A\n",
    "Upload this dataset to your Google Drive and load the dataset into memory using the pickle module (*Hint: Refer to previous assignments to figure out how to do this*). Go through the circles dataset and create a scatterplot of the circles data using the y label as each sample's color to designate their respective class."
   ]
  },
  {
   "cell_type": "code",
   "execution_count": 51,
   "metadata": {
    "id": "qbHlzNfazdB1"
   },
   "outputs": [
    {
     "data": {
      "text/plain": [
       "(1000,)"
      ]
     },
     "execution_count": 51,
     "metadata": {},
     "output_type": "execute_result"
    }
   ],
   "source": [
    "# TODO: Change me\n",
    "#CIRCLES_DATASET_PATH = '/content/drive/MyDrive/data/circles/circles.pk'\n",
    "\n",
    "# TODO: Load the dataset using pickle load \n",
    "\n",
    "#with open(CIRCLES_DATASET_PATH, 'rb') as circles_file:\n",
    "  # TODO: Load here...\n",
    "  # circles = ??\n",
    "\n",
    "with open('circles.pk','rb') as f_:\n",
    "    circles=pickle.load(f_)\n",
    "    \n",
    "circles[0][:,1].shape"
   ]
  },
  {
   "cell_type": "code",
   "execution_count": 52,
   "metadata": {
    "id": "cwLr5n7I0kUD"
   },
   "outputs": [
    {
     "data": {
      "text/plain": [
       "<matplotlib.collections.PathCollection at 0x7fe5bd46a320>"
      ]
     },
     "execution_count": 52,
     "metadata": {},
     "output_type": "execute_result"
    },
    {
     "data": {
      "image/png": "[encoded data removed]",
      "text/plain": [
       "<Figure size 640x480 with 1 Axes>"
      ]
     },
     "metadata": {},
     "output_type": "display_data"
    }
   ],
   "source": [
    "\n",
    "\n",
    "plt.scatter(circles[0][:,0], circles[0][:,1], s =7, c = circles[1])\n",
    "# TODO: Graph the data"
   ]
  },
  {
   "cell_type": "markdown",
   "metadata": {
    "id": "iaNdT9dO1GNM"
   },
   "source": [
    "### Part B\n",
    "Is this dataset linearly seperable? Explain why or why not?"
   ]
  },
  {
   "cell_type": "markdown",
   "metadata": {
    "id": "zm2CzCTG1JSr"
   },
   "source": [
    "## This dataset is not linearly seperable because no line could seperate both groups from eachother."
   ]
  },
  {
   "cell_type": "markdown",
   "metadata": {
    "id": "PFK8qmFg1o8V"
   },
   "source": [
    "### Part C\n",
    "Can you think of a transformation that can be applied to this dataset that could make it linearly seperable? If so, define what these transformation function(s) might look like, and if not explain why. *Hint: Think of a higher dimensional space.*"
   ]
  },
  {
   "cell_type": "markdown",
   "metadata": {
    "id": "ia1Jhy_L1uax"
   },
   "source": [
    "## They can be transformed to polar coordinates. (functions defined below)"
   ]
  },
  {
   "cell_type": "markdown",
   "metadata": {
    "id": "WC5ZUiZD1-ew"
   },
   "source": [
    "### Part D\n",
    "If you where able to find a transformation in (Part C), create a suitable graph showing that the dataset is linearly seperable in this new feature space."
   ]
  },
  {
   "cell_type": "code",
   "execution_count": 53,
   "metadata": {
    "id": "aY_vnGqB2FxG"
   },
   "outputs": [
    {
     "data": {
      "image/png": "[encoded data removed]",
      "text/plain": [
       "<Figure size 640x480 with 1 Axes>"
      ]
     },
     "metadata": {},
     "output_type": "display_data"
    }
   ],
   "source": [
    "def r(x,y):\n",
    "    return np.sqrt((x**2)+(y**2))\n",
    "def angle(x,y):\n",
    "    return np.degrees(np.arctan2(y,x))\n",
    "\n",
    "\n",
    "plt.scatter( r(circles[0][:,0],circles[0][:,1]) , angle(circles[0][:,0],circles[0][:,1]), s=7 , c = circles[1])\n",
    "plt.title('Angle vs Radius');\n",
    "plt.xlabel('Radius')\n",
    "plt.ylabel('Angle');\n",
    "#TODO: Your code goes here."
   ]
  },
  {
   "cell_type": "markdown",
   "metadata": {
    "id": "DXBD02Z72XTn"
   },
   "source": [
    "## Task 2: Yoga Pose Classification\n",
    "What we accomplished in Part 1 is known as the kernel trick for SVMs. Now let's focus on how we can use this idea to accomplish non-linear classification on a real world dataset. In this next part and throughout the remainder of the assignment we will be using a yoga postures dataset. These images are PNG and JPEG images with many pixels. "
   ]
  },
  {
   "cell_type": "markdown",
   "metadata": {
    "id": "MgKTi7eS2ftd"
   },
   "source": [
    "### Part A\n",
    "You have been given a number of code skeletons throughout the course all of which load and preprocess the data for you. In this excerise tho, we will be doing the data loading manually as it is an important skill to learn. Write some code that will walk through the *Yoga Postures Dataset* directory structure and build a single large numpy array (Make sure to resize the image to something like (28, 28) or (32, 32) for the SVM and at minimum (71, 71) for the deep learning tasks) *Hint: You have been provided with a basic skeleton, study the operations of the code and finish the script.*"
   ]
  },
  {
   "cell_type": "code",
   "execution_count": 54,
   "metadata": {},
   "outputs": [],
   "source": [
    "from PIL import Image\n",
    "\n",
    "train_dir = '/Users/turnermullarkey/ENGS108/Assignment_4_Fall2022/train/'\n",
    "test_dir = '/Users/turnermullarkey/ENGS108/Assignment_4_Fall2022/test/'\n",
    "\n",
    "train_paths = []\n",
    "pose_map = {}\n",
    "pose_count = 0\n",
    "for i in os.listdir(train_dir):\n",
    "\n",
    "    if os.path.isdir(train_dir+i):\n",
    "        pose_map[pose_count] = i \n",
    "        \n",
    "        train_paths+=[train_dir+i+\"/\"+j for j in os.listdir(train_dir+i)]\n",
    "        pose_count +=1\n",
    "        "
   ]
  },
  {
   "cell_type": "code",
   "execution_count": 55,
   "metadata": {},
   "outputs": [
    {
     "data": {
      "text/plain": [
       "1"
      ]
     },
     "execution_count": 55,
     "metadata": {},
     "output_type": "execute_result"
    }
   ],
   "source": [
    "pose_keys = list(pose_map.keys())\n",
    "pose_vals = list(pose_map.values())\n",
    "ind = pose_vals.index('Hanumanasana')\n",
    "pose_keys[ind]"
   ]
  },
  {
   "cell_type": "code",
   "execution_count": 56,
   "metadata": {},
   "outputs": [],
   "source": [
    "#get array of all train poses\n",
    "train_poses = []\n",
    "for i in os.listdir(train_dir):\n",
    "    if os.path.isdir(train_dir+i):\n",
    "        train_poses += [ pose_keys[pose_vals.index(i)] for k in os.listdir(train_dir+i)]\n"
   ]
  },
  {
   "cell_type": "code",
   "execution_count": 77,
   "metadata": {},
   "outputs": [],
   "source": [
    "test_poses = []\n",
    "for i in os.listdir(test_dir):\n",
    "    if os.path.isdir(test_dir+i):\n",
    "        test_poses += [ pose_keys[pose_vals.index(i)] for k in os.listdir(test_dir+i)]\n"
   ]
  },
  {
   "cell_type": "code",
   "execution_count": 57,
   "metadata": {},
   "outputs": [],
   "source": [
    "\n",
    "test_paths = []\n",
    "for i in os.listdir(test_dir):\n",
    "    if os.path.isdir(test_dir+i):\n",
    "        test_paths+=[test_dir+i+\"/\"+j for j in os.listdir(test_dir+i)]\n",
    "\n"
   ]
  },
  {
   "cell_type": "code",
   "execution_count": 233,
   "metadata": {},
   "outputs": [],
   "source": [
    "train_images = []\n",
    "for file in train_paths:\n",
    "    train_images.append(np.asarray(Image.open(file).convert('RGB').resize((71,71))))\n",
    "\n",
    "train_images = np.stack(train_images)"
   ]
  },
  {
   "cell_type": "code",
   "execution_count": 234,
   "metadata": {},
   "outputs": [
    {
     "name": "stderr",
     "output_type": "stream",
     "text": [
      "/opt/anaconda3/envs/tensorflow/lib/python3.10/site-packages/PIL/Image.py:959: UserWarning: Palette images with Transparency expressed in bytes should be converted to RGBA images\n",
      "  warnings.warn(\n"
     ]
    }
   ],
   "source": [
    "test_images = []\n",
    "for file in test_paths:\n",
    "    test_images.append(np.asarray(Image.open(file).convert('RGB').resize((71,71))))\n",
    "    \n",
    "test_images = np.stack(test_images)"
   ]
  },
  {
   "cell_type": "code",
   "execution_count": 237,
   "metadata": {},
   "outputs": [
    {
     "data": {
      "text/plain": [
       "<matplotlib.image.AxesImage at 0x7fde5a2445e0>"
      ]
     },
     "execution_count": 237,
     "metadata": {},
     "output_type": "execute_result"
    },
    {
     "data": {
      "image/png": "[encoded data removed]",
      "text/plain": [
       "<Figure size 640x480 with 1 Axes>"
      ]
     },
     "metadata": {},
     "output_type": "display_data"
    }
   ],
   "source": [
    "plt.imshow(test_images[179])"
   ]
  },
  {
   "cell_type": "code",
   "execution_count": 352,
   "metadata": {},
   "outputs": [
    {
     "data": {
      "text/plain": [
       "(529, 71, 71, 3)"
      ]
     },
     "execution_count": 352,
     "metadata": {},
     "output_type": "execute_result"
    }
   ],
   "source": [
    "test_images.shape"
   ]
  },
  {
   "cell_type": "markdown",
   "metadata": {
    "id": "-TqNTGVz3CWF"
   },
   "source": [
    "from PIL import Image\n",
    "\n",
    "#TODO: Change Me\n",
    "PATH_TO_YOGA_TRAIN_DATA = '/train'\n",
    "PATH_TO_YOGA_TEST_DATA = '/test'\n",
    "\n",
    "#The dimensions of the resized image\n",
    "RESIZE = (71,71)\n",
    "#A map from integer ids to yoga pose categories (strings)\n",
    "pose_map = {}\n",
    "#The data lists that we will be filling in.\n",
    "X, y = [], []\n",
    "\n",
    "#Let's start our for loop (Just using tqdm to give us a pretty progress bar).\n",
    "class_id = 0\n",
    "for subfold in tqdm.tqdm(os.listdir(PATH_TO_YOGA_TRAIN_DATA), desc='Processing training images', leave=False):                                                                             \n",
    "  if os.path.isdir(os.path.join(PATH_TO_YOGA_TRAIN_DATA, subfold)):\n",
    "    # We have found image class folder so let's extract all example data\n",
    "    pose_map[class_id] = subfold\n",
    "    for img_name in os.listdir(os.path.join(PATH_TO_YOGA_TRAIN_DATA, subfold)):\n",
    "      #TODO: Preprocess and load image\n",
    "      #HINT: PNGs will have 4 channels and JPEGs will have 3 (THIS WILL CAUSE ISSUES!).\n",
    "      # Try to figure out what to do with this 4th channel. It could be as simple as deleting it...\n",
    "    class_id += 1\n",
    "    \n",
    "    \n",
    "X_train = np.array(X)\n",
    "\n",
    "\n",
    "y_train = np.array(y)\n",
    "\n",
    "\n",
    "#Let's load in the training data as well using the same methodology but with the pose_map built during the training data collection. \n",
    "pose_map_reverse = {pose: class_id for class_id, pose in pose_map.items()}\n",
    "X, y = [], []\n",
    "for subfold in tqdm.tqdm(os.listdir(PATH_TO_YOGA_TEST_DATA), desc='Processing test images', leave=False):                                                                             \n",
    "  if os.path.isdir(os.path.join(PATH_TO_YOGA_TEST_DATA, subfold)):\n",
    "    # We have found image class folder so let's extract all example data\n",
    "    class_id = pose_map_reverse[subfold]\n",
    "    for img_name in os.listdir(os.path.join(PATH_TO_YOGA_TEST_DATA, subfold)):\n",
    "      #TODO: Preprocess and load image\n",
    "\n",
    "X_test = np.array(X)\n",
    "y_test = np.array(y)"
   ]
  },
  {
   "cell_type": "markdown",
   "metadata": {
    "id": "F39zc6f-9UDr"
   },
   "source": [
    "### Part B\n",
    "Implement a SVM classifer using sklearn and report your classification results on the testing dataset. Make sure to flatten your X data from the three channels before passing into the SVM."
   ]
  },
  {
   "cell_type": "code",
   "execution_count": 65,
   "metadata": {},
   "outputs": [
    {
     "data": {
      "text/plain": [
       "(2229, 71, 71, 3)"
      ]
     },
     "execution_count": 65,
     "metadata": {},
     "output_type": "execute_result"
    }
   ],
   "source": [
    "train_images.shape\n"
   ]
  },
  {
   "cell_type": "code",
   "execution_count": 66,
   "metadata": {},
   "outputs": [],
   "source": [
    "train_images.shape\n",
    "train_images_flat = train_images.reshape(-1,int(71*71*3))\n",
    "test_images_flat = train_images.reshape(-1,int(71*71*3))"
   ]
  },
  {
   "cell_type": "code",
   "execution_count": 73,
   "metadata": {},
   "outputs": [
    {
     "data": {
      "text/plain": [
       "(2229, 15123)"
      ]
     },
     "execution_count": 73,
     "metadata": {},
     "output_type": "execute_result"
    }
   ],
   "source": [
    "train_images_flat.shape"
   ]
  },
  {
   "cell_type": "code",
   "execution_count": 78,
   "metadata": {
    "id": "-fPEAkUB9jwh"
   },
   "outputs": [
    {
     "name": "stdout",
     "output_type": "stream",
     "text": [
      "The F1 score for the test data is 0.40623670629995345\n"
     ]
    }
   ],
   "source": [
    "#TODO: Build and fit your SVM classifier and print your classification report\n",
    "from sklearn.metrics import f1_score\n",
    "from sklearn.pipeline import make_pipeline\n",
    "from sklearn.preprocessing import StandardScaler\n",
    "from sklearn.svm import SVC\n",
    "\n",
    "clf = make_pipeline(StandardScaler(), SVC(gamma='auto'))\n",
    "clf.fit(train_images_flat,train_poses)\n",
    "test_pred = clf.predict(test_images.reshape(-1,int(71*71*3)))\n",
    "print('The F1 score for the test data is', f1_score(test_poses,test_pred,average = 'weighted'))"
   ]
  },
  {
   "cell_type": "code",
   "execution_count": 79,
   "metadata": {},
   "outputs": [
    {
     "name": "stdout",
     "output_type": "stream",
     "text": [
      "The mean accuracy score for the test data is 0.41398865784499056\n"
     ]
    }
   ],
   "source": [
    "mean_accuracy = clf.score(test_images.reshape(-1,int(71*71*3)),test_poses)\n",
    "\n",
    "print(\"The mean accuracy score for the test data is\", mean_accuracy)"
   ]
  },
  {
   "cell_type": "markdown",
   "metadata": {
    "id": "Cq3fmX8K_l_N"
   },
   "source": [
    "# Problem 2: Introduction to TensorFlow\n",
    "In this problem, we will start working in tensorflow to build deep learning systems starting with fully-connected (FC) and convolutional (CNN) neural networks. We will focus on using the yoga postures dataset, ending this problem with a small class competition that may come with a prize..."
   ]
  },
  {
   "cell_type": "markdown",
   "metadata": {
    "id": "PJNX1muh_7IA"
   },
   "source": [
    "## Task 1: A Fully-Connected Neural Network"
   ]
  },
  {
   "cell_type": "markdown",
   "metadata": {
    "id": "oCkRDTbIA4vH"
   },
   "source": [
    "### Part A\n",
    "Using the yoga postures dataset, build a [tensorflow Data Dataset](https://www.tensorflow.org/api_docs/python/tf/data/Dataset) that is shuffled with a batch size of 10. *Hint: We did this in class.*"
   ]
  },
  {
   "cell_type": "code",
   "execution_count": 100,
   "metadata": {},
   "outputs": [],
   "source": [
    "\n",
    "##one hot encode labels \n",
    "\n",
    "test_labels = np.array(test_poses)\n",
    "train_labels = np.array(train_poses)\n",
    "\n",
    "test_labels\n",
    "test_1hot = []\n",
    "for i in test_labels:\n",
    "    l = np.zeros(47)\n",
    "    l[i] = 1\n",
    "    test_1hot.append(l.reshape(1,-1))\n",
    "    \n",
    "train_labels\n",
    "train_1hot = []\n",
    "for i in train_labels:\n",
    "    l = np.zeros(47)\n",
    "    l[i] = 1\n",
    "    train_1hot.append(l.reshape(1,-1))  "
   ]
  },
  {
   "cell_type": "code",
   "execution_count": 202,
   "metadata": {
    "id": "HAUkPd1lAFHh"
   },
   "outputs": [],
   "source": []
  },
  {
   "cell_type": "code",
   "execution_count": 203,
   "metadata": {},
   "outputs": [],
   "source": [
    "#TODO: Your code goes here.\n",
    "#TODO: Your code goes here.\n",
    "testset = tf.data.Dataset.from_tensor_slices(([tf.convert_to_tensor(i.reshape(1,-1)) for i in test_images],\n",
    "    tf.convert_to_tensor(test_labels)))\n",
    "trainset = tf.data.Dataset.from_tensor_slices(([tf.convert_to_tensor(i.reshape(1,-1)) for i in train_images],\n",
    "    tf.convert_to_tensor(train_labels)))"
   ]
  },
  {
   "cell_type": "code",
   "execution_count": 155,
   "metadata": {},
   "outputs": [
    {
     "data": {
      "text/plain": [
       "<BatchDataset element_spec=(TensorSpec(shape=(10, 1, 15123), dtype=tf.uint8, name=None), TensorSpec(shape=(10,), dtype=tf.int64, name=None))>"
      ]
     },
     "execution_count": 155,
     "metadata": {},
     "output_type": "execute_result"
    }
   ],
   "source": [
    "dataset = trainset.batch(10, drop_remainder = True)\n",
    "\n",
    "dataset"
   ]
  },
  {
   "cell_type": "markdown",
   "metadata": {
    "id": "UlLZH8fsA9NF"
   },
   "source": [
    "### Part B\n",
    "Build a two layer fully connected neural network of any size with a ReLu activation function and a final softmax layer."
   ]
  },
  {
   "cell_type": "code",
   "execution_count": 206,
   "metadata": {
    "id": "3RXomqTaBLHw"
   },
   "outputs": [
    {
     "name": "stdout",
     "output_type": "stream",
     "text": [
      "Epoch 1/20\n",
      "223/223 [==============================] - 156s 683ms/step - loss: 3.8860 - sparse_categorical_accuracy: 0.0000e+00\n",
      "Epoch 2/20\n",
      "223/223 [==============================] - 160s 718ms/step - loss: 3.8515 - sparse_categorical_accuracy: 0.0346\n",
      "Epoch 3/20\n",
      "223/223 [==============================] - 148s 664ms/step - loss: 3.8577 - sparse_categorical_accuracy: 0.0292\n",
      "Epoch 4/20\n",
      "223/223 [==============================] - 144s 648ms/step - loss: 3.8569 - sparse_categorical_accuracy: 0.0292\n",
      "Epoch 5/20\n",
      "223/223 [==============================] - 141s 630ms/step - loss: 3.8569 - sparse_categorical_accuracy: 0.0292\n",
      "Epoch 6/20\n",
      "223/223 [==============================] - 146s 657ms/step - loss: 3.8569 - sparse_categorical_accuracy: 0.0292\n",
      "Epoch 7/20\n",
      "223/223 [==============================] - 147s 659ms/step - loss: 3.8569 - sparse_categorical_accuracy: 0.0292\n",
      "Epoch 8/20\n",
      "223/223 [==============================] - 160s 718ms/step - loss: 3.8569 - sparse_categorical_accuracy: 0.0292\n",
      "Epoch 9/20\n",
      "223/223 [==============================] - 156s 701ms/step - loss: 3.8569 - sparse_categorical_accuracy: 0.0292\n",
      "Epoch 10/20\n",
      "223/223 [==============================] - 157s 706ms/step - loss: 3.8569 - sparse_categorical_accuracy: 0.0292\n",
      "Epoch 11/20\n",
      "223/223 [==============================] - 150s 671ms/step - loss: 3.8569 - sparse_categorical_accuracy: 0.0292\n",
      "Epoch 12/20\n",
      "223/223 [==============================] - 147s 658ms/step - loss: 3.8569 - sparse_categorical_accuracy: 0.0292\n",
      "Epoch 13/20\n",
      "223/223 [==============================] - 145s 651ms/step - loss: 3.8569 - sparse_categorical_accuracy: 0.0292\n",
      "Epoch 14/20\n",
      "223/223 [==============================] - 146s 656ms/step - loss: 3.8569 - sparse_categorical_accuracy: 0.0292\n",
      "Epoch 15/20\n",
      "223/223 [==============================] - 144s 645ms/step - loss: 3.8569 - sparse_categorical_accuracy: 0.0292\n",
      "Epoch 16/20\n",
      "223/223 [==============================] - 155s 694ms/step - loss: 3.8569 - sparse_categorical_accuracy: 0.0292\n",
      "Epoch 17/20\n",
      "223/223 [==============================] - 150s 671ms/step - loss: 3.8569 - sparse_categorical_accuracy: 0.0292\n",
      "Epoch 18/20\n",
      "223/223 [==============================] - 147s 661ms/step - loss: 3.8569 - sparse_categorical_accuracy: 0.0292\n",
      "Epoch 19/20\n",
      "223/223 [==============================] - 149s 667ms/step - loss: 3.8569 - sparse_categorical_accuracy: 0.0292\n",
      "Epoch 20/20\n",
      "223/223 [==============================] - 152s 682ms/step - loss: 3.8569 - sparse_categorical_accuracy: 0.0292\n"
     ]
    }
   ],
   "source": [
    "#TODO: Your code goes here. Make sure to add a Flatten layer first with the correct input shape.\n",
    "from tensorflow.keras import layers\n",
    "import keras\n",
    "model = tf.keras.models.Sequential()\n",
    "model.add(tf.keras.Input(shape=(1,int((71**2)*3))))\n",
    "model.add(tf.keras.layers.Dense(10000, activation = 'relu'))\n",
    "model.add(tf.keras.layers.Dense(6000, activation = 'relu'))\n",
    "model.add(tf.keras.layers.Dense(2000, activation = 'relu'))\n",
    "model.add(tf.keras.layers.Dense(500, activation = 'relu'))\n",
    "model.add(tf.keras.layers.Dense(100, activation = 'relu'))\n",
    "model.add(tf.keras.layers.Dense(47, activation = 'relu'))\n",
    "model.add(tf.keras.layers.Softmax())\n",
    "model.compile(optimizer='adam', \n",
    "              loss=tf.keras.losses.SparseCategoricalCrossentropy(from_logits=True),\n",
    "              metrics=[keras.metrics.SparseCategoricalAccuracy()])\n",
    "# This builds the model for the first time:\n",
    "model_trained = model.fit(trainset.batch(10), epochs=20)"
   ]
  },
  {
   "cell_type": "markdown",
   "metadata": {
    "id": "eR3MLamSBX3E"
   },
   "source": [
    "### Part C\n",
    "Compile your model with an appropriate loss function and optimizer. Briefly describe your choices."
   ]
  },
  {
   "cell_type": "markdown",
   "metadata": {},
   "source": [
    "# I chose the loss function because it is for multiclass, and I used adam optimizer because it is an industry standard."
   ]
  },
  {
   "cell_type": "markdown",
   "metadata": {
    "id": "tHRuyQk9Bddp"
   },
   "source": [
    "# Compiled Above"
   ]
  },
  {
   "cell_type": "markdown",
   "metadata": {
    "id": "Zs0V_gmYBsc-"
   },
   "source": [
    "### Part D\n",
    "Train your model on the yoga pose training dataset. And report your accuracy on the testing dataset."
   ]
  },
  {
   "cell_type": "code",
   "execution_count": 211,
   "metadata": {
    "id": "dmQcGH1TBxoP"
   },
   "outputs": [
    {
     "name": "stdout",
     "output_type": "stream",
     "text": [
      "1/1 [==============================] - 1s 612ms/step - loss: 3.8558 - sparse_categorical_accuracy: 0.0302\n"
     ]
    }
   ],
   "source": [
    "outs = model.evaluate(testset.batch(len(testset)))"
   ]
  },
  {
   "cell_type": "markdown",
   "metadata": {
    "id": "ZMw_u7qsFWCf"
   },
   "source": [
    "## Task 2: A Convolutional Neural Network\n",
    "CNNs perform notoriously well on image classification tasks, so we will study a simple implementation of this network and let you guys compete to see who finds the best architecture. "
   ]
  },
  {
   "cell_type": "markdown",
   "metadata": {
    "id": "OScsuOosFzqP"
   },
   "source": [
    "### Part A: Vanilla CNN\n",
    "Build, compile, and fit a CNN with the following network structure:\n",
    "* A total of 3 convolutional segments consisting of:\n",
    "  - A convolutional layer with \"valid\" padding and Relu activation and your choice of kernel size, number of filters and strides,\n",
    "  - An average pooling layer,\n",
    "* Then a fully connected layer with 128 neurons with ReLu activations.\n",
    "* Then a fully connected layer with 64 neurons and ReLu activations.\n",
    "* And ending with a softmax output layer.\n",
    "\n"
   ]
  },
  {
   "cell_type": "code",
   "execution_count": 238,
   "metadata": {},
   "outputs": [],
   "source": [
    "train_images_gray = train_images.mean(-1)/255\n",
    "test_images_gray = test_images.mean(-1)/255"
   ]
  },
  {
   "cell_type": "code",
   "execution_count": 278,
   "metadata": {},
   "outputs": [
    {
     "name": "stdout",
     "output_type": "stream",
     "text": [
      "12\n"
     ]
    },
    {
     "data": {
      "text/plain": [
       "<matplotlib.image.AxesImage at 0x7fdea71ec100>"
      ]
     },
     "execution_count": 278,
     "metadata": {},
     "output_type": "execute_result"
    },
    {
     "data": {
      "image/png": "[encoded data removed]",
      "text/plain": [
       "<Figure size 640x480 with 1 Axes>"
      ]
     },
     "metadata": {},
     "output_type": "display_data"
    }
   ],
   "source": [
    "i = 458\n",
    "print(train_labels[i])\n",
    "plt.imshow(train_images_gray[i])\n"
   ]
  },
  {
   "cell_type": "code",
   "execution_count": 358,
   "metadata": {},
   "outputs": [
    {
     "name": "stdout",
     "output_type": "stream",
     "text": [
      "Epoch 1/80\n",
      "90/90 [==============================] - 2s 22ms/step - loss: 4.1593 - sparse_categorical_accuracy: 0.0000e+00\n",
      "Epoch 2/80\n",
      "90/90 [==============================] - 2s 22ms/step - loss: 4.1589 - sparse_categorical_accuracy: 0.0000e+00\n",
      "Epoch 3/80\n",
      "90/90 [==============================] - 2s 22ms/step - loss: 4.1588 - sparse_categorical_accuracy: 0.0094\n",
      "Epoch 4/80\n",
      "90/90 [==============================] - 2s 22ms/step - loss: 4.1588 - sparse_categorical_accuracy: 0.0292\n",
      "Epoch 5/80\n",
      "90/90 [==============================] - 2s 22ms/step - loss: 4.1586 - sparse_categorical_accuracy: 0.0310\n",
      "Epoch 6/80\n",
      "90/90 [==============================] - 2s 22ms/step - loss: 4.1582 - sparse_categorical_accuracy: 0.0319\n",
      "Epoch 7/80\n",
      "90/90 [==============================] - 2s 22ms/step - loss: 4.1574 - sparse_categorical_accuracy: 0.0148\n",
      "Epoch 8/80\n",
      "90/90 [==============================] - 2s 22ms/step - loss: 4.1552 - sparse_categorical_accuracy: 0.0301\n",
      "Epoch 9/80\n",
      "90/90 [==============================] - 2s 22ms/step - loss: 4.1504 - sparse_categorical_accuracy: 0.0328\n",
      "Epoch 10/80\n",
      "90/90 [==============================] - 2s 22ms/step - loss: 4.1433 - sparse_categorical_accuracy: 0.0399\n",
      "Epoch 11/80\n",
      "90/90 [==============================] - 2s 23ms/step - loss: 4.1468 - sparse_categorical_accuracy: 0.0247\n",
      "Epoch 12/80\n",
      "90/90 [==============================] - 2s 23ms/step - loss: 4.1376 - sparse_categorical_accuracy: 0.0435\n",
      "Epoch 13/80\n",
      "90/90 [==============================] - 2s 22ms/step - loss: 4.1288 - sparse_categorical_accuracy: 0.0583\n",
      "Epoch 14/80\n",
      "90/90 [==============================] - 2s 23ms/step - loss: 4.1221 - sparse_categorical_accuracy: 0.0673\n",
      "Epoch 15/80\n",
      "90/90 [==============================] - 2s 23ms/step - loss: 4.1160 - sparse_categorical_accuracy: 0.0781\n",
      "Epoch 16/80\n",
      "90/90 [==============================] - 2s 23ms/step - loss: 4.1097 - sparse_categorical_accuracy: 0.0857\n",
      "Epoch 17/80\n",
      "90/90 [==============================] - 2s 25ms/step - loss: 4.1052 - sparse_categorical_accuracy: 0.0866\n",
      "Epoch 18/80\n",
      "90/90 [==============================] - 2s 23ms/step - loss: 4.0991 - sparse_categorical_accuracy: 0.0929\n",
      "Epoch 19/80\n",
      "90/90 [==============================] - 2s 23ms/step - loss: 4.0939 - sparse_categorical_accuracy: 0.0991\n",
      "Epoch 20/80\n",
      "90/90 [==============================] - 2s 23ms/step - loss: 4.0904 - sparse_categorical_accuracy: 0.1005\n",
      "Epoch 21/80\n",
      "90/90 [==============================] - 2s 24ms/step - loss: 4.0860 - sparse_categorical_accuracy: 0.1050\n",
      "Epoch 22/80\n",
      "90/90 [==============================] - 2s 26ms/step - loss: 4.0827 - sparse_categorical_accuracy: 0.1077\n",
      "Epoch 23/80\n",
      "90/90 [==============================] - 2s 25ms/step - loss: 4.0808 - sparse_categorical_accuracy: 0.1081\n",
      "Epoch 24/80\n",
      "90/90 [==============================] - 2s 23ms/step - loss: 4.0781 - sparse_categorical_accuracy: 0.1126\n",
      "Epoch 25/80\n",
      "90/90 [==============================] - 2s 23ms/step - loss: 4.0742 - sparse_categorical_accuracy: 0.1153\n",
      "Epoch 26/80\n",
      "90/90 [==============================] - 2s 24ms/step - loss: 4.0704 - sparse_categorical_accuracy: 0.1193\n",
      "Epoch 27/80\n",
      "90/90 [==============================] - 2s 25ms/step - loss: 4.0671 - sparse_categorical_accuracy: 0.1216\n",
      "Epoch 28/80\n",
      "90/90 [==============================] - 2s 23ms/step - loss: 4.0645 - sparse_categorical_accuracy: 0.1238\n",
      "Epoch 29/80\n",
      "90/90 [==============================] - 2s 23ms/step - loss: 4.0620 - sparse_categorical_accuracy: 0.1261\n",
      "Epoch 30/80\n",
      "90/90 [==============================] - 2s 23ms/step - loss: 4.0595 - sparse_categorical_accuracy: 0.1297\n",
      "Epoch 31/80\n",
      "90/90 [==============================] - 2s 24ms/step - loss: 4.0582 - sparse_categorical_accuracy: 0.1328\n",
      "Epoch 32/80\n",
      "90/90 [==============================] - 2s 23ms/step - loss: 4.0541 - sparse_categorical_accuracy: 0.1355\n",
      "Epoch 33/80\n",
      "90/90 [==============================] - 2s 24ms/step - loss: 4.0519 - sparse_categorical_accuracy: 0.1377\n",
      "Epoch 34/80\n",
      "90/90 [==============================] - 2s 24ms/step - loss: 4.0490 - sparse_categorical_accuracy: 0.1400\n",
      "Epoch 35/80\n",
      "90/90 [==============================] - 2s 24ms/step - loss: 4.0466 - sparse_categorical_accuracy: 0.1436\n",
      "Epoch 36/80\n",
      "90/90 [==============================] - 2s 24ms/step - loss: 4.0434 - sparse_categorical_accuracy: 0.1467\n",
      "Epoch 37/80\n",
      "90/90 [==============================] - 2s 24ms/step - loss: 4.0405 - sparse_categorical_accuracy: 0.1503\n",
      "Epoch 38/80\n",
      "90/90 [==============================] - 2s 25ms/step - loss: 4.0377 - sparse_categorical_accuracy: 0.1507\n",
      "Epoch 39/80\n",
      "90/90 [==============================] - 2s 25ms/step - loss: 4.0359 - sparse_categorical_accuracy: 0.1534\n",
      "Epoch 40/80\n",
      "90/90 [==============================] - 2s 25ms/step - loss: 4.0327 - sparse_categorical_accuracy: 0.1539\n",
      "Epoch 41/80\n",
      "90/90 [==============================] - 2s 25ms/step - loss: 4.0314 - sparse_categorical_accuracy: 0.1557\n",
      "Epoch 42/80\n",
      "90/90 [==============================] - 2s 25ms/step - loss: 4.0301 - sparse_categorical_accuracy: 0.1561\n",
      "Epoch 43/80\n",
      "90/90 [==============================] - 2s 26ms/step - loss: 4.0283 - sparse_categorical_accuracy: 0.1584\n",
      "Epoch 44/80\n",
      "90/90 [==============================] - 2s 25ms/step - loss: 4.0251 - sparse_categorical_accuracy: 0.1615\n",
      "Epoch 45/80\n",
      "90/90 [==============================] - 2s 25ms/step - loss: 4.0234 - sparse_categorical_accuracy: 0.1624\n",
      "Epoch 46/80\n",
      "90/90 [==============================] - 2s 25ms/step - loss: 4.0220 - sparse_categorical_accuracy: 0.1624\n",
      "Epoch 47/80\n",
      "90/90 [==============================] - 2s 25ms/step - loss: 4.0208 - sparse_categorical_accuracy: 0.1633\n",
      "Epoch 48/80\n",
      "90/90 [==============================] - 2s 25ms/step - loss: 4.0192 - sparse_categorical_accuracy: 0.1633\n",
      "Epoch 49/80\n",
      "90/90 [==============================] - 2s 24ms/step - loss: 4.0175 - sparse_categorical_accuracy: 0.1651\n",
      "Epoch 50/80\n",
      "90/90 [==============================] - 2s 25ms/step - loss: 4.0160 - sparse_categorical_accuracy: 0.1664\n",
      "Epoch 51/80\n",
      "90/90 [==============================] - 2s 25ms/step - loss: 4.0147 - sparse_categorical_accuracy: 0.1664\n",
      "Epoch 52/80\n",
      "90/90 [==============================] - 2s 24ms/step - loss: 4.0129 - sparse_categorical_accuracy: 0.1678\n",
      "Epoch 53/80\n",
      "90/90 [==============================] - 2s 22ms/step - loss: 4.0111 - sparse_categorical_accuracy: 0.1691\n",
      "Epoch 54/80\n",
      "90/90 [==============================] - 2s 21ms/step - loss: 4.0099 - sparse_categorical_accuracy: 0.1718\n",
      "Epoch 55/80\n",
      "90/90 [==============================] - 2s 21ms/step - loss: 4.0078 - sparse_categorical_accuracy: 0.1763\n",
      "Epoch 56/80\n",
      "90/90 [==============================] - 2s 21ms/step - loss: 4.0044 - sparse_categorical_accuracy: 0.1799\n",
      "Epoch 57/80\n",
      "90/90 [==============================] - 2s 21ms/step - loss: 4.0007 - sparse_categorical_accuracy: 0.1830\n",
      "Epoch 58/80\n",
      "90/90 [==============================] - 2s 21ms/step - loss: 3.9982 - sparse_categorical_accuracy: 0.1857\n",
      "Epoch 59/80\n",
      "90/90 [==============================] - 2s 21ms/step - loss: 3.9956 - sparse_categorical_accuracy: 0.1866\n",
      "Epoch 60/80\n",
      "90/90 [==============================] - 2s 21ms/step - loss: 3.9937 - sparse_categorical_accuracy: 0.1866\n",
      "Epoch 61/80\n",
      "90/90 [==============================] - 2s 21ms/step - loss: 3.9924 - sparse_categorical_accuracy: 0.1875\n",
      "Epoch 62/80\n",
      "90/90 [==============================] - 2s 21ms/step - loss: 3.9928 - sparse_categorical_accuracy: 0.1871\n",
      "Epoch 63/80\n",
      "90/90 [==============================] - 2s 21ms/step - loss: 3.9924 - sparse_categorical_accuracy: 0.1875\n",
      "Epoch 64/80\n",
      "90/90 [==============================] - 2s 21ms/step - loss: 3.9896 - sparse_categorical_accuracy: 0.1880\n",
      "Epoch 65/80\n",
      "90/90 [==============================] - 2s 21ms/step - loss: 3.9915 - sparse_categorical_accuracy: 0.1884\n",
      "Epoch 66/80\n",
      "90/90 [==============================] - 2s 21ms/step - loss: 3.9923 - sparse_categorical_accuracy: 0.1884\n",
      "Epoch 67/80\n",
      "90/90 [==============================] - 2s 21ms/step - loss: 3.9892 - sparse_categorical_accuracy: 0.1889\n",
      "Epoch 68/80\n",
      "90/90 [==============================] - 2s 21ms/step - loss: 3.9872 - sparse_categorical_accuracy: 0.1889\n",
      "Epoch 69/80\n"
     ]
    },
    {
     "name": "stdout",
     "output_type": "stream",
     "text": [
      "90/90 [==============================] - 2s 23ms/step - loss: 3.9858 - sparse_categorical_accuracy: 0.1893\n",
      "Epoch 70/80\n",
      "90/90 [==============================] - 3s 29ms/step - loss: 3.9851 - sparse_categorical_accuracy: 0.1893\n",
      "Epoch 71/80\n",
      "90/90 [==============================] - 2s 24ms/step - loss: 3.9842 - sparse_categorical_accuracy: 0.1893\n",
      "Epoch 72/80\n",
      "90/90 [==============================] - 2s 26ms/step - loss: 3.9842 - sparse_categorical_accuracy: 0.1893\n",
      "Epoch 73/80\n",
      "90/90 [==============================] - 2s 22ms/step - loss: 3.9836 - sparse_categorical_accuracy: 0.1902\n",
      "Epoch 74/80\n",
      "90/90 [==============================] - 2s 27ms/step - loss: 3.9832 - sparse_categorical_accuracy: 0.1902\n",
      "Epoch 75/80\n",
      "90/90 [==============================] - 2s 25ms/step - loss: 3.9826 - sparse_categorical_accuracy: 0.1902\n",
      "Epoch 76/80\n",
      "90/90 [==============================] - 2s 25ms/step - loss: 3.9828 - sparse_categorical_accuracy: 0.1902\n",
      "Epoch 77/80\n",
      "90/90 [==============================] - 2s 25ms/step - loss: 3.9821 - sparse_categorical_accuracy: 0.1902\n",
      "Epoch 78/80\n",
      "90/90 [==============================] - 2s 26ms/step - loss: 3.9822 - sparse_categorical_accuracy: 0.1902\n",
      "Epoch 79/80\n",
      "90/90 [==============================] - 2s 25ms/step - loss: 3.9819 - sparse_categorical_accuracy: 0.1902\n",
      "Epoch 80/80\n",
      "90/90 [==============================] - 2s 25ms/step - loss: 3.9816 - sparse_categorical_accuracy: 0.1902\n"
     ]
    }
   ],
   "source": [
    "\n",
    "testset = tf.data.Dataset.from_tensor_slices(([tf.convert_to_tensor(i.reshape(71,71,1)) for i in test_images_gray],\n",
    "    tf.convert_to_tensor(test_labels)))\n",
    "trainset = tf.data.Dataset.from_tensor_slices(([tf.convert_to_tensor(i.reshape(71,71,1)) for i in train_images_gray],\n",
    "    tf.convert_to_tensor(train_labels)))\n",
    "\n",
    "\n",
    "opt = keras.optimizers.Adam(learning_rate=0.0003)\n",
    "\n",
    "\n",
    "cmodel = tf.keras.models.Sequential()\n",
    "cmodel.add(tf.keras.Input(shape=(71,71,1)))\n",
    "cmodel.add(tf.keras.layers.Conv2D(filters = 16,kernel_size = (3,3), activation = 'relu',padding=\"valid\"))\n",
    "cmodel.add(tf.keras.layers.AveragePooling2D(pool_size = (3,3)))\n",
    "cmodel.add(tf.keras.layers.Flatten())\n",
    "cmodel.add(tf.keras.layers.Dense(128, activation = 'relu'))\n",
    "cmodel.add(tf.keras.layers.Dense(64, activation = 'relu'))\n",
    "\n",
    "cmodel.add(tf.keras.layers.Softmax())\n",
    "cmodel.compile(optimizer=opt, \n",
    "              loss=tf.keras.losses.SparseCategoricalCrossentropy(from_logits=True),\n",
    "              metrics=[keras.metrics.SparseCategoricalAccuracy()])\n",
    "# This builds the cmodel for the first time:\n",
    "c_trained = cmodel.fit(trainset.batch(25), epochs=80)"
   ]
  },
  {
   "cell_type": "code",
   "execution_count": 360,
   "metadata": {},
   "outputs": [
    {
     "name": "stdout",
     "output_type": "stream",
     "text": [
      "1/1 [==============================] - 0s 128ms/step - loss: 4.0562 - sparse_categorical_accuracy: 0.1588\n"
     ]
    },
    {
     "data": {
      "text/plain": [
       "[4.056155681610107, 0.15879017114639282]"
      ]
     },
     "execution_count": 360,
     "metadata": {},
     "output_type": "execute_result"
    }
   ],
   "source": [
    "cmodel.evaluate(testset.batch(len(testset)))"
   ]
  },
  {
   "cell_type": "markdown",
   "metadata": {
    "id": "ImJlwhxDcm1z"
   },
   "source": [
    "### Part B: Transfer Learning\n",
    "Now we are going to steal from a state-of-the-art [Xception](https://arxiv.org/abs/1610.02357) model. Luckily, tensorflow has this directly available to us and we are going to use transfer learning to tune this SoA model to our dataset. Therefore, run the following code block to build our base Xception model:"
   ]
  },
  {
   "cell_type": "code",
   "execution_count": 306,
   "metadata": {
    "id": "pItcNDoZQz2Z"
   },
   "outputs": [
    {
     "name": "stdout",
     "output_type": "stream",
     "text": [
      "Downloading data from https://storage.googleapis.com/tensorflow/keras-applications/xception/xception_weights_tf_dim_ordering_tf_kernels_notop.h5\n",
      "83683744/83683744 [==============================] - 2s 0us/step\n"
     ]
    }
   ],
   "source": [
    "# I'll setup your base model for you.\n",
    "from tensorflow.keras.applications import Xception\n",
    "\n",
    "base_model = Xception(\n",
    "    include_top=False,\n",
    "    weights='imagenet',\n",
    "    input_shape=(71,71,3)\n",
    ")\n",
    "base_model.trainable=False"
   ]
  },
  {
   "cell_type": "markdown",
   "metadata": {
    "id": "p6pRc41Gds2J"
   },
   "source": [
    "Now create a new model with this *base_model* as our first layer followed by:\n",
    "* Global average pooling layer,\n",
    "* A Dense layer with 256 neurons and ReLu activations,\n",
    "* A 40% Dropout layer,\n",
    "* A softmax output layer.\n",
    "\n",
    "Then fit this model on 30 epochs."
   ]
  },
  {
   "cell_type": "code",
   "execution_count": 364,
   "metadata": {
    "id": "qGseIBQ9efhR"
   },
   "outputs": [
    {
     "name": "stdout",
     "output_type": "stream",
     "text": [
      "Epoch 1/30\n",
      "90/90 [==============================] - 11s 106ms/step - loss: 3.8777 - sparse_categorical_accuracy: 0.0081\n",
      "Epoch 2/30\n",
      "90/90 [==============================] - 9s 104ms/step - loss: 3.8649 - sparse_categorical_accuracy: 0.0211\n",
      "Epoch 3/30\n",
      "90/90 [==============================] - 10s 108ms/step - loss: 3.8609 - sparse_categorical_accuracy: 0.0251\n",
      "Epoch 4/30\n",
      "90/90 [==============================] - 10s 108ms/step - loss: 3.8578 - sparse_categorical_accuracy: 0.0283\n",
      "Epoch 5/30\n",
      "90/90 [==============================] - 10s 106ms/step - loss: 3.8618 - sparse_categorical_accuracy: 0.0242\n",
      "Epoch 6/30\n",
      "90/90 [==============================] - 10s 108ms/step - loss: 3.8631 - sparse_categorical_accuracy: 0.0233\n",
      "Epoch 7/30\n",
      "90/90 [==============================] - 10s 108ms/step - loss: 3.8609 - sparse_categorical_accuracy: 0.0256\n",
      "Epoch 8/30\n",
      "90/90 [==============================] - 10s 109ms/step - loss: 3.8591 - sparse_categorical_accuracy: 0.0269\n",
      "Epoch 9/30\n",
      "90/90 [==============================] - 10s 110ms/step - loss: 3.8627 - sparse_categorical_accuracy: 0.0242\n",
      "Epoch 10/30\n",
      "90/90 [==============================] - 10s 110ms/step - loss: 3.8636 - sparse_categorical_accuracy: 0.0229\n",
      "Epoch 11/30\n",
      "90/90 [==============================] - 10s 109ms/step - loss: 3.8618 - sparse_categorical_accuracy: 0.0247\n",
      "Epoch 12/30\n",
      "90/90 [==============================] - 10s 110ms/step - loss: 3.8672 - sparse_categorical_accuracy: 0.0193\n",
      "Epoch 13/30\n",
      "90/90 [==============================] - 10s 112ms/step - loss: 3.8618 - sparse_categorical_accuracy: 0.0251\n",
      "Epoch 14/30\n",
      "90/90 [==============================] - 11s 117ms/step - loss: 3.8636 - sparse_categorical_accuracy: 0.0229\n",
      "Epoch 15/30\n",
      "90/90 [==============================] - 11s 117ms/step - loss: 3.8690 - sparse_categorical_accuracy: 0.0175\n",
      "Epoch 16/30\n",
      "90/90 [==============================] - 10s 114ms/step - loss: 3.8662 - sparse_categorical_accuracy: 0.0206\n",
      "Epoch 17/30\n",
      "90/90 [==============================] - 10s 111ms/step - loss: 3.8663 - sparse_categorical_accuracy: 0.0202\n",
      "Epoch 18/30\n",
      "90/90 [==============================] - 10s 112ms/step - loss: 3.8649 - sparse_categorical_accuracy: 0.0215\n",
      "Epoch 19/30\n",
      "90/90 [==============================] - 11s 119ms/step - loss: 3.8635 - sparse_categorical_accuracy: 0.0233\n",
      "Epoch 20/30\n",
      "90/90 [==============================] - 10s 113ms/step - loss: 3.8649 - sparse_categorical_accuracy: 0.0215\n",
      "Epoch 21/30\n",
      "90/90 [==============================] - 10s 111ms/step - loss: 3.8640 - sparse_categorical_accuracy: 0.0224\n",
      "Epoch 22/30\n",
      "90/90 [==============================] - 10s 109ms/step - loss: 3.8644 - sparse_categorical_accuracy: 0.0220\n",
      "Epoch 23/30\n",
      "90/90 [==============================] - 10s 113ms/step - loss: 3.8671 - sparse_categorical_accuracy: 0.0193\n",
      "Epoch 24/30\n",
      "90/90 [==============================] - 10s 113ms/step - loss: 3.8626 - sparse_categorical_accuracy: 0.0238\n",
      "Epoch 25/30\n",
      "90/90 [==============================] - 10s 112ms/step - loss: 3.8688 - sparse_categorical_accuracy: 0.0175\n",
      "Epoch 26/30\n",
      "90/90 [==============================] - 10s 111ms/step - loss: 3.8632 - sparse_categorical_accuracy: 0.0233\n",
      "Epoch 27/30\n",
      "90/90 [==============================] - 10s 112ms/step - loss: 3.8653 - sparse_categorical_accuracy: 0.0211\n",
      "Epoch 28/30\n",
      "90/90 [==============================] - 10s 115ms/step - loss: 3.8639 - sparse_categorical_accuracy: 0.0224\n",
      "Epoch 29/30\n",
      "90/90 [==============================] - 10s 114ms/step - loss: 3.8628 - sparse_categorical_accuracy: 0.0233\n",
      "Epoch 30/30\n",
      "90/90 [==============================] - 10s 112ms/step - loss: 3.8677 - sparse_categorical_accuracy: 0.0184\n"
     ]
    }
   ],
   "source": [
    "testsetrgb = tf.data.Dataset.from_tensor_slices(([tf.convert_to_tensor(i.reshape(71,71,3)) for i in test_images],\n",
    "    tf.convert_to_tensor(test_labels)))\n",
    "trainsetrgb = tf.data.Dataset.from_tensor_slices(([tf.convert_to_tensor(i.reshape(71,71,3)) for i in train_images],\n",
    "    tf.convert_to_tensor(train_labels)))\n",
    "\n",
    "\n",
    "opt = keras.optimizers.Adam(learning_rate=0.001)\n",
    "\n",
    "#TODO: Finish the model\n",
    "modelx = tf.keras.Sequential([\n",
    "    tf.keras.Input(shape=(71,71,3,)),\n",
    "    base_model,\n",
    "    tf.keras.layers.AveragePooling2D(),\n",
    "    tf.keras.layers.Flatten(),\n",
    "    tf.keras.layers.Dense(256, activation = 'relu'),\n",
    "    tf.keras.layers.Dense(47, activation = 'relu'),\n",
    "    tf.keras.layers.Dropout(0.4),\n",
    "    tf.keras.layers.Softmax()\n",
    "    \n",
    "    #TODO: Add other layers\n",
    "    \n",
    "])\n",
    "\n",
    "\n",
    "# modelx.add(tf.keras.layers.Dense(128, activation = 'relu'))\n",
    "\n",
    "modelx.compile(optimizer=opt, \n",
    "              loss=tf.keras.losses.SparseCategoricalCrossentropy(from_logits=True),\n",
    "              metrics=[keras.metrics.SparseCategoricalAccuracy()])\n",
    "# This builds the modelx for the first time:\n",
    "modelx_trained = modelx.fit(trainsetrgb.batch(25), epochs=30)\n",
    "\n",
    "#TODO: Compile model"
   ]
  },
  {
   "cell_type": "code",
   "execution_count": 365,
   "metadata": {},
   "outputs": [
    {
     "name": "stdout",
     "output_type": "stream",
     "text": [
      "1/1 [==============================] - 3s 3s/step - loss: 3.8614 - sparse_categorical_accuracy: 0.0246\n"
     ]
    },
    {
     "data": {
      "text/plain": [
       "[3.8614280223846436, 0.02457466907799244]"
      ]
     },
     "execution_count": 365,
     "metadata": {},
     "output_type": "execute_result"
    }
   ],
   "source": [
    "modelx.evaluate(testsetrgb.batch(len(testsetrgb)))"
   ]
  },
  {
   "cell_type": "code",
   "execution_count": null,
   "metadata": {
    "id": "TesGjF0ser0f"
   },
   "outputs": [],
   "source": [
    "#TODO: Fit the model on 30 epochs"
   ]
  },
  {
   "cell_type": "markdown",
   "metadata": {
    "id": "hrER79ZPYH_8"
   },
   "source": [
    "### Part C: Build your Own Model\n",
    "So know that you know the range of accuracies between poorly built models and state-of-the-art models like Xception, can you improve on them? Attempt to build your own deep neural network architecture and see if you can do better than the base CNN model presented above or better yet the Xception model we transfer learned. You may use any architecture or configuration you like."
   ]
  },
  {
   "cell_type": "code",
   "execution_count": 353,
   "metadata": {
    "id": "532bbgSUY7EM"
   },
   "outputs": [
    {
     "name": "stdout",
     "output_type": "stream",
     "text": [
      "Epoch 1/80\n",
      "90/90 [==============================] - 3s 26ms/step - loss: 3.8505 - sparse_categorical_accuracy: 4.4863e-04\n",
      "Epoch 2/80\n",
      "90/90 [==============================] - 2s 24ms/step - loss: 3.8502 - sparse_categorical_accuracy: 0.0058\n",
      "Epoch 3/80\n",
      "90/90 [==============================] - 2s 24ms/step - loss: 3.8502 - sparse_categorical_accuracy: 0.0094\n",
      "Epoch 4/80\n",
      "90/90 [==============================] - 2s 26ms/step - loss: 3.8502 - sparse_categorical_accuracy: 0.0296\n",
      "Epoch 5/80\n",
      "90/90 [==============================] - 2s 26ms/step - loss: 3.8501 - sparse_categorical_accuracy: 0.0251\n",
      "Epoch 6/80\n",
      "90/90 [==============================] - 3s 31ms/step - loss: 3.8501 - sparse_categorical_accuracy: 0.0507\n",
      "Epoch 7/80\n",
      "90/90 [==============================] - 3s 30ms/step - loss: 3.8501 - sparse_categorical_accuracy: 0.0368\n",
      "Epoch 8/80\n",
      "90/90 [==============================] - 2s 26ms/step - loss: 3.8501 - sparse_categorical_accuracy: 0.0359\n",
      "Epoch 9/80\n",
      "90/90 [==============================] - 2s 28ms/step - loss: 3.8500 - sparse_categorical_accuracy: 0.0592\n",
      "Epoch 10/80\n",
      "90/90 [==============================] - 3s 28ms/step - loss: 3.8498 - sparse_categorical_accuracy: 0.0529\n",
      "Epoch 11/80\n",
      "90/90 [==============================] - 2s 26ms/step - loss: 3.8499 - sparse_categorical_accuracy: 0.0372\n",
      "Epoch 12/80\n",
      "90/90 [==============================] - 3s 29ms/step - loss: 3.8490 - sparse_categorical_accuracy: 0.0471\n",
      "Epoch 13/80\n",
      "90/90 [==============================] - 3s 30ms/step - loss: 3.8477 - sparse_categorical_accuracy: 0.0390\n",
      "Epoch 14/80\n",
      "90/90 [==============================] - 3s 28ms/step - loss: 3.8425 - sparse_categorical_accuracy: 0.0449\n",
      "Epoch 15/80\n",
      "90/90 [==============================] - 3s 29ms/step - loss: 3.8350 - sparse_categorical_accuracy: 0.0485\n",
      "Epoch 16/80\n",
      "90/90 [==============================] - 3s 28ms/step - loss: 3.8355 - sparse_categorical_accuracy: 0.0565\n",
      "Epoch 17/80\n",
      "90/90 [==============================] - 3s 28ms/step - loss: 3.8229 - sparse_categorical_accuracy: 0.0633\n",
      "Epoch 18/80\n",
      "90/90 [==============================] - 3s 28ms/step - loss: 3.8141 - sparse_categorical_accuracy: 0.0704\n",
      "Epoch 19/80\n",
      "90/90 [==============================] - 3s 28ms/step - loss: 3.8065 - sparse_categorical_accuracy: 0.0794\n",
      "Epoch 20/80\n",
      "90/90 [==============================] - 3s 28ms/step - loss: 3.7979 - sparse_categorical_accuracy: 0.0879\n",
      "Epoch 21/80\n",
      "90/90 [==============================] - 3s 28ms/step - loss: 3.7942 - sparse_categorical_accuracy: 0.0915\n",
      "Epoch 22/80\n",
      "90/90 [==============================] - 3s 28ms/step - loss: 3.7931 - sparse_categorical_accuracy: 0.0897\n",
      "Epoch 23/80\n",
      "90/90 [==============================] - 3s 30ms/step - loss: 3.7889 - sparse_categorical_accuracy: 0.0965\n",
      "Epoch 24/80\n",
      "90/90 [==============================] - 3s 30ms/step - loss: 3.7834 - sparse_categorical_accuracy: 0.1018\n",
      "Epoch 25/80\n",
      "90/90 [==============================] - 3s 29ms/step - loss: 3.7788 - sparse_categorical_accuracy: 0.1063\n",
      "Epoch 26/80\n",
      "90/90 [==============================] - 3s 28ms/step - loss: 3.7751 - sparse_categorical_accuracy: 0.1099\n",
      "Epoch 27/80\n",
      "90/90 [==============================] - 3s 29ms/step - loss: 3.7718 - sparse_categorical_accuracy: 0.1140\n",
      "Epoch 28/80\n",
      "90/90 [==============================] - 3s 29ms/step - loss: 3.7684 - sparse_categorical_accuracy: 0.1166\n",
      "Epoch 29/80\n",
      "90/90 [==============================] - 3s 29ms/step - loss: 3.7657 - sparse_categorical_accuracy: 0.1198\n",
      "Epoch 30/80\n",
      "90/90 [==============================] - 3s 29ms/step - loss: 3.7626 - sparse_categorical_accuracy: 0.1207\n",
      "Epoch 31/80\n",
      "90/90 [==============================] - 3s 29ms/step - loss: 3.7595 - sparse_categorical_accuracy: 0.1256\n",
      "Epoch 32/80\n",
      "90/90 [==============================] - 3s 29ms/step - loss: 3.7560 - sparse_categorical_accuracy: 0.1288\n",
      "Epoch 33/80\n",
      "90/90 [==============================] - 3s 29ms/step - loss: 3.7526 - sparse_categorical_accuracy: 0.1323\n",
      "Epoch 34/80\n",
      "90/90 [==============================] - 3s 29ms/step - loss: 3.7487 - sparse_categorical_accuracy: 0.1368\n",
      "Epoch 35/80\n",
      "90/90 [==============================] - 3s 29ms/step - loss: 3.7450 - sparse_categorical_accuracy: 0.1440\n",
      "Epoch 36/80\n",
      "90/90 [==============================] - 3s 29ms/step - loss: 3.7409 - sparse_categorical_accuracy: 0.1454\n",
      "Epoch 37/80\n",
      "90/90 [==============================] - 3s 29ms/step - loss: 3.7378 - sparse_categorical_accuracy: 0.1521\n",
      "Epoch 38/80\n",
      "90/90 [==============================] - 3s 29ms/step - loss: 3.7335 - sparse_categorical_accuracy: 0.1543\n",
      "Epoch 39/80\n",
      "90/90 [==============================] - 3s 32ms/step - loss: 3.7261 - sparse_categorical_accuracy: 0.1624\n",
      "Epoch 40/80\n",
      "90/90 [==============================] - 3s 29ms/step - loss: 3.7204 - sparse_categorical_accuracy: 0.1660\n",
      "Epoch 41/80\n",
      "90/90 [==============================] - 3s 29ms/step - loss: 3.7177 - sparse_categorical_accuracy: 0.1691\n",
      "Epoch 42/80\n",
      "90/90 [==============================] - 3s 33ms/step - loss: 3.7137 - sparse_categorical_accuracy: 0.1736\n",
      "Epoch 43/80\n",
      "90/90 [==============================] - 2s 26ms/step - loss: 3.7101 - sparse_categorical_accuracy: 0.1754\n",
      "Epoch 44/80\n",
      "90/90 [==============================] - 2s 25ms/step - loss: 3.7076 - sparse_categorical_accuracy: 0.1763\n",
      "Epoch 45/80\n",
      "90/90 [==============================] - 2s 25ms/step - loss: 3.7055 - sparse_categorical_accuracy: 0.1781\n",
      "Epoch 46/80\n",
      "90/90 [==============================] - 2s 27ms/step - loss: 3.7035 - sparse_categorical_accuracy: 0.1795\n",
      "Epoch 47/80\n",
      "90/90 [==============================] - 3s 28ms/step - loss: 3.7028 - sparse_categorical_accuracy: 0.1803\n",
      "Epoch 48/80\n",
      "90/90 [==============================] - 2s 28ms/step - loss: 3.7012 - sparse_categorical_accuracy: 0.1803\n",
      "Epoch 49/80\n",
      "90/90 [==============================] - 2s 27ms/step - loss: 3.6999 - sparse_categorical_accuracy: 0.1821\n",
      "Epoch 50/80\n",
      "90/90 [==============================] - 3s 28ms/step - loss: 3.6988 - sparse_categorical_accuracy: 0.1821\n",
      "Epoch 51/80\n",
      "90/90 [==============================] - 3s 28ms/step - loss: 3.6961 - sparse_categorical_accuracy: 0.1844\n",
      "Epoch 52/80\n",
      "90/90 [==============================] - 3s 29ms/step - loss: 3.6950 - sparse_categorical_accuracy: 0.1853\n",
      "Epoch 53/80\n",
      "90/90 [==============================] - 3s 28ms/step - loss: 3.6918 - sparse_categorical_accuracy: 0.1871\n",
      "Epoch 54/80\n",
      "90/90 [==============================] - 2s 27ms/step - loss: 3.6902 - sparse_categorical_accuracy: 0.1889\n",
      "Epoch 55/80\n",
      "90/90 [==============================] - 2s 27ms/step - loss: 3.6896 - sparse_categorical_accuracy: 0.1911\n",
      "Epoch 56/80\n",
      "90/90 [==============================] - 2s 28ms/step - loss: 3.6870 - sparse_categorical_accuracy: 0.1925\n",
      "Epoch 57/80\n",
      "90/90 [==============================] - 2s 27ms/step - loss: 3.6853 - sparse_categorical_accuracy: 0.1929\n",
      "Epoch 58/80\n",
      "90/90 [==============================] - 2s 27ms/step - loss: 3.6837 - sparse_categorical_accuracy: 0.1934\n",
      "Epoch 59/80\n",
      "90/90 [==============================] - 2s 27ms/step - loss: 3.6828 - sparse_categorical_accuracy: 0.1956\n",
      "Epoch 60/80\n",
      "90/90 [==============================] - 2s 27ms/step - loss: 3.6812 - sparse_categorical_accuracy: 0.1969\n",
      "Epoch 61/80\n",
      "90/90 [==============================] - 2s 27ms/step - loss: 3.6807 - sparse_categorical_accuracy: 0.1992\n",
      "Epoch 62/80\n",
      "90/90 [==============================] - 2s 27ms/step - loss: 3.6781 - sparse_categorical_accuracy: 0.2019\n",
      "Epoch 63/80\n",
      "90/90 [==============================] - 2s 27ms/step - loss: 3.6759 - sparse_categorical_accuracy: 0.2050\n",
      "Epoch 64/80\n",
      "90/90 [==============================] - 2s 27ms/step - loss: 3.6738 - sparse_categorical_accuracy: 0.2077\n",
      "Epoch 65/80\n",
      "90/90 [==============================] - 2s 27ms/step - loss: 3.6739 - sparse_categorical_accuracy: 0.2068\n",
      "Epoch 66/80\n",
      "90/90 [==============================] - 2s 27ms/step - loss: 3.6689 - sparse_categorical_accuracy: 0.2118\n",
      "Epoch 67/80\n",
      "90/90 [==============================] - 2s 27ms/step - loss: 3.6668 - sparse_categorical_accuracy: 0.2131\n",
      "Epoch 68/80\n",
      "90/90 [==============================] - 2s 27ms/step - loss: 3.6644 - sparse_categorical_accuracy: 0.2144\n",
      "Epoch 69/80\n"
     ]
    },
    {
     "name": "stdout",
     "output_type": "stream",
     "text": [
      "90/90 [==============================] - 3s 28ms/step - loss: 3.6603 - sparse_categorical_accuracy: 0.2167\n",
      "Epoch 70/80\n",
      "90/90 [==============================] - 2s 28ms/step - loss: 3.6571 - sparse_categorical_accuracy: 0.2180\n",
      "Epoch 71/80\n",
      "90/90 [==============================] - 2s 28ms/step - loss: 3.6533 - sparse_categorical_accuracy: 0.2216\n",
      "Epoch 72/80\n",
      "90/90 [==============================] - 2s 28ms/step - loss: 3.6521 - sparse_categorical_accuracy: 0.2221\n",
      "Epoch 73/80\n",
      "90/90 [==============================] - 3s 28ms/step - loss: 3.6513 - sparse_categorical_accuracy: 0.2234\n",
      "Epoch 74/80\n",
      "90/90 [==============================] - 2s 28ms/step - loss: 3.6483 - sparse_categorical_accuracy: 0.2248\n",
      "Epoch 75/80\n",
      "90/90 [==============================] - 2s 28ms/step - loss: 3.6474 - sparse_categorical_accuracy: 0.2252\n",
      "Epoch 76/80\n",
      "90/90 [==============================] - 2s 28ms/step - loss: 3.6458 - sparse_categorical_accuracy: 0.2257\n",
      "Epoch 77/80\n",
      "90/90 [==============================] - 2s 28ms/step - loss: 3.6449 - sparse_categorical_accuracy: 0.2261\n",
      "Epoch 78/80\n",
      "90/90 [==============================] - 2s 28ms/step - loss: 3.6441 - sparse_categorical_accuracy: 0.2261\n",
      "Epoch 79/80\n",
      "90/90 [==============================] - 2s 28ms/step - loss: 3.6438 - sparse_categorical_accuracy: 0.2266\n",
      "Epoch 80/80\n",
      "90/90 [==============================] - 2s 28ms/step - loss: 3.6435 - sparse_categorical_accuracy: 0.2261\n"
     ]
    }
   ],
   "source": [
    "#TODO: Build and train your custom model and evaluate on the test data.\n",
    "testset = tf.data.Dataset.from_tensor_slices(([tf.convert_to_tensor(i.reshape(71,71,1)) for i in test_images_gray],\n",
    "    tf.convert_to_tensor(test_labels)))\n",
    "trainset = tf.data.Dataset.from_tensor_slices(([tf.convert_to_tensor(i.reshape(71,71,1)) for i in train_images_gray],\n",
    "    tf.convert_to_tensor(train_labels)))\n",
    "\n",
    "\n",
    "opt = keras.optimizers.Adam(learning_rate=0.0003)\n",
    "\n",
    "\n",
    "cnnmodel = tf.keras.models.Sequential()\n",
    "cnnmodel.add(tf.keras.Input(shape=(71,71,1)))\n",
    "cnnmodel.add(tf.keras.layers.Conv2D(filters = 16,kernel_size = (3,3), activation = 'relu',padding=\"valid\"))\n",
    "cnnmodel.add(tf.keras.layers.AveragePooling2D(pool_size = (3,3)))\n",
    "cnnmodel.add(tf.keras.layers.Conv2D(filters = 24,kernel_size = (4,4), activation = 'relu',padding=\"valid\"))\n",
    "cnnmodel.add(tf.keras.layers.AveragePooling2D(pool_size = (4,4)))\n",
    "# cnnmodel.add(tf.keras.layers.Conv2D(filters = 32,kernel_size = (5,5), activation = 'relu',padding=\"valid\"))\n",
    "#cnnmodel.add(tf.keras.layers.MaxPool2D(pool_size = (,5)))\n",
    "cnnmodel.add(tf.keras.layers.Flatten())\n",
    "cnnmodel.add(tf.keras.layers.Dense(128, activation = 'relu'))\n",
    "cnnmodel.add(tf.keras.layers.Dense(47, activation = 'relu'))\n",
    "cnnmodel.add(tf.keras.layers.Softmax())\n",
    "cnnmodel.compile(optimizer=opt, \n",
    "              loss=tf.keras.losses.SparseCategoricalCrossentropy(from_logits=True),\n",
    "              metrics=[keras.metrics.SparseCategoricalAccuracy()])\n",
    "# This builds the cnnmodel for the first time:\n",
    "cnn_trained = cnnmodel.fit(trainset.batch(25), epochs=80)"
   ]
  },
  {
   "cell_type": "code",
   "execution_count": 354,
   "metadata": {},
   "outputs": [
    {
     "name": "stdout",
     "output_type": "stream",
     "text": [
      "1/1 [==============================] - 0s 318ms/step - loss: 3.6982 - sparse_categorical_accuracy: 0.1871\n"
     ]
    },
    {
     "data": {
      "text/plain": [
       "[3.698237180709839, 0.18714556097984314]"
      ]
     },
     "execution_count": 354,
     "metadata": {},
     "output_type": "execute_result"
    }
   ],
   "source": [
    "cnnmodel.evaluate(testset.batch(len(testset)))"
   ]
  },
  {
   "cell_type": "markdown",
   "metadata": {
    "id": "8PQQIKToY53y"
   },
   "source": [
    "### Part D: Compete!\n",
    "To enter the class competition for the best model save out your model as a H5 file and upload it to your assignment repo using the following code block."
   ]
  },
  {
   "cell_type": "code",
   "execution_count": null,
   "metadata": {
    "id": "Ns7XFPYBZAFs"
   },
   "outputs": [],
   "source": [
    "#TODO: Save your tensorflow model with:\n",
    "model.save('/content/drive/MyDrive/models/yoga-cnn.h5')\n",
    "#TODO: Download your model from Google Drive and upload that saved file to your github assignment repo when you submit your assignment."
   ]
  }
 ],
 "metadata": {
  "accelerator": "GPU",
  "colab": {
   "collapsed_sections": [],
   "include_colab_link": true,
   "provenance": [],
   "toc_visible": true
  },
  "kernelspec": {
   "display_name": "Python 3 (ipykernel)",
   "language": "python",
   "name": "python3"
  },
  "language_info": {
   "codemirror_mode": {
    "name": "ipython",
    "version": 3
   },
   "file_extension": ".py",
   "mimetype": "text/x-python",
   "name": "python",
   "nbconvert_exporter": "python",
   "pygments_lexer": "ipython3",
   "version": "3.10.6"
  }
 },
 "nbformat": 4,
 "nbformat_minor": 1
}
